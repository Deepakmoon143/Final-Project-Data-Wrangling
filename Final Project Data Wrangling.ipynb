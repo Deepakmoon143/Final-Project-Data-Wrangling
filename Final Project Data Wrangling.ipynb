{
 "cells": [
  {
   "cell_type": "markdown",
   "metadata": {},
   "source": [
    "1. Import the dataset using Pandas from above mentioned url.\n",
    "2. High Level Data Understanding:\n",
    "    a. Find no. of rows & columns in the dataset\n",
    "    b. Data types of columns.\n",
    "    c. Info & describe of data in dataframe."
   ]
  },
  {
   "cell_type": "code",
   "execution_count": 1,
   "metadata": {},
   "outputs": [
    {
     "name": "stdout",
     "output_type": "stream",
     "text": [
      "Number of rows: 57394\n",
      "Number of columns: 49\n"
     ]
    }
   ],
   "source": [
    "import pandas as pd\n",
    "import seaborn as sns\n",
    "import matplotlib.pyplot as plt\n",
    "\n",
    "\n",
    "url= \"https://raw.githubusercontent.com/SR1608/Datasets/main/covid-data.csv\"\n",
    "covid_data = pd.read_csv(url)\n",
    "\n",
    "# 2. High Level Data Understanding:\n",
    "\n",
    "# a. Find no. of rows & columns in the dataset\n",
    "num_rows, num_columns = covid_data.shape\n",
    "\n",
    "print(f\"Number of rows: {num_rows}\")\n",
    "print(f\"Number of columns: {num_columns}\")\n",
    "\n",
    "\n"
   ]
  },
  {
   "cell_type": "code",
   "execution_count": 2,
   "metadata": {},
   "outputs": [
    {
     "name": "stdout",
     "output_type": "stream",
     "text": [
      "iso_code                               object\n",
      "continent                              object\n",
      "location                               object\n",
      "date                                   object\n",
      "total_cases                           float64\n",
      "new_cases                             float64\n",
      "new_cases_smoothed                    float64\n",
      "total_deaths                          float64\n",
      "new_deaths                            float64\n",
      "new_deaths_smoothed                   float64\n",
      "total_cases_per_million               float64\n",
      "new_cases_per_million                 float64\n",
      "new_cases_smoothed_per_million        float64\n",
      "total_deaths_per_million              float64\n",
      "new_deaths_per_million                float64\n",
      "new_deaths_smoothed_per_million       float64\n",
      "reproduction_rate                     float64\n",
      "icu_patients                          float64\n",
      "icu_patients_per_million              float64\n",
      "hosp_patients                         float64\n",
      "hosp_patients_per_million             float64\n",
      "weekly_icu_admissions                 float64\n",
      "weekly_icu_admissions_per_million     float64\n",
      "weekly_hosp_admissions                float64\n",
      "weekly_hosp_admissions_per_million    float64\n",
      "total_tests                           float64\n",
      "new_tests                             float64\n",
      "total_tests_per_thousand              float64\n",
      "new_tests_per_thousand                float64\n",
      "new_tests_smoothed                    float64\n",
      "new_tests_smoothed_per_thousand       float64\n",
      "tests_per_case                        float64\n",
      "positive_rate                         float64\n",
      "stringency_index                      float64\n",
      "population                            float64\n",
      "population_density                    float64\n",
      "median_age                            float64\n",
      "aged_65_older                         float64\n",
      "aged_70_older                         float64\n",
      "gdp_per_capita                        float64\n",
      "extreme_poverty                       float64\n",
      "cardiovasc_death_rate                 float64\n",
      "diabetes_prevalence                   float64\n",
      "female_smokers                        float64\n",
      "male_smokers                          float64\n",
      "handwashing_facilities                float64\n",
      "hospital_beds_per_thousand            float64\n",
      "life_expectancy                       float64\n",
      "human_development_index               float64\n",
      "dtype: object\n"
     ]
    }
   ],
   "source": [
    "# b. Data types of columns\n",
    "data_types = covid_data.dtypes\n",
    "\n",
    "print(data_types)"
   ]
  },
  {
   "cell_type": "code",
   "execution_count": 3,
   "metadata": {},
   "outputs": [
    {
     "name": "stdout",
     "output_type": "stream",
     "text": [
      "\n",
      "Info of the dataframe:\n",
      "<class 'pandas.core.frame.DataFrame'>\n",
      "RangeIndex: 57394 entries, 0 to 57393\n",
      "Data columns (total 49 columns):\n",
      " #   Column                              Non-Null Count  Dtype  \n",
      "---  ------                              --------------  -----  \n",
      " 0   iso_code                            57071 non-null  object \n",
      " 1   continent                           56748 non-null  object \n",
      " 2   location                            57394 non-null  object \n",
      " 3   date                                57394 non-null  object \n",
      " 4   total_cases                         53758 non-null  float64\n",
      " 5   new_cases                           56465 non-null  float64\n",
      " 6   new_cases_smoothed                  55652 non-null  float64\n",
      " 7   total_deaths                        44368 non-null  float64\n",
      " 8   new_deaths                          56465 non-null  float64\n",
      " 9   new_deaths_smoothed                 55652 non-null  float64\n",
      " 10  total_cases_per_million             53471 non-null  float64\n",
      " 11  new_cases_per_million               56401 non-null  float64\n",
      " 12  new_cases_smoothed_per_million      55587 non-null  float64\n",
      " 13  total_deaths_per_million            44096 non-null  float64\n",
      " 14  new_deaths_per_million              56401 non-null  float64\n",
      " 15  new_deaths_smoothed_per_million     55587 non-null  float64\n",
      " 16  reproduction_rate                   37696 non-null  float64\n",
      " 17  icu_patients                        4490 non-null   float64\n",
      " 18  icu_patients_per_million            4490 non-null   float64\n",
      " 19  hosp_patients                       5005 non-null   float64\n",
      " 20  hosp_patients_per_million           5005 non-null   float64\n",
      " 21  weekly_icu_admissions               357 non-null    float64\n",
      " 22  weekly_icu_admissions_per_million   357 non-null    float64\n",
      " 23  weekly_hosp_admissions              645 non-null    float64\n",
      " 24  weekly_hosp_admissions_per_million  645 non-null    float64\n",
      " 25  total_tests                         22017 non-null  float64\n",
      " 26  new_tests                           21787 non-null  float64\n",
      " 27  total_tests_per_thousand            22017 non-null  float64\n",
      " 28  new_tests_per_thousand              21787 non-null  float64\n",
      " 29  new_tests_smoothed                  24612 non-null  float64\n",
      " 30  new_tests_smoothed_per_thousand     24612 non-null  float64\n",
      " 31  tests_per_case                      22802 non-null  float64\n",
      " 32  positive_rate                       23211 non-null  float64\n",
      " 33  stringency_index                    47847 non-null  float64\n",
      " 34  population                          57071 non-null  float64\n",
      " 35  population_density                  54371 non-null  float64\n",
      " 36  median_age                          51034 non-null  float64\n",
      " 37  aged_65_older                       50265 non-null  float64\n",
      " 38  aged_70_older                       50768 non-null  float64\n",
      " 39  gdp_per_capita                      50367 non-null  float64\n",
      " 40  extreme_poverty                     33571 non-null  float64\n",
      " 41  cardiovasc_death_rate               51013 non-null  float64\n",
      " 42  diabetes_prevalence                 52881 non-null  float64\n",
      " 43  female_smokers                      39669 non-null  float64\n",
      " 44  male_smokers                        39156 non-null  float64\n",
      " 45  handwashing_facilities              24176 non-null  float64\n",
      " 46  hospital_beds_per_thousand          45936 non-null  float64\n",
      " 47  life_expectancy                     56336 non-null  float64\n",
      " 48  human_development_index             49247 non-null  float64\n",
      "dtypes: float64(45), object(4)\n",
      "memory usage: 21.5+ MB\n",
      "None\n",
      "        total_cases      new_cases  new_cases_smoothed  total_deaths  \\\n",
      "count  5.375800e+04   56465.000000        55652.000000  4.436800e+04   \n",
      "mean   1.677974e+05    1953.576941         1920.431953  6.858639e+03   \n",
      "std    1.693038e+06   18269.650340        17777.391785  5.578081e+04   \n",
      "min    1.000000e+00   -8261.000000         -552.000000  1.000000e+00   \n",
      "25%    1.800000e+02       0.000000            0.857000  1.300000e+01   \n",
      "50%    2.070000e+03      14.000000           19.429000  8.400000e+01   \n",
      "75%    2.235675e+04     235.000000          245.286000  7.270000e+02   \n",
      "max    5.515465e+07  646281.000000       584981.857000  1.328537e+06   \n",
      "\n",
      "         new_deaths  new_deaths_smoothed  total_cases_per_million  \\\n",
      "count  56465.000000         55652.000000             53471.000000   \n",
      "mean      47.054317            46.835439              3139.099982   \n",
      "std      390.853776           378.272794              6183.455260   \n",
      "min    -1918.000000          -232.143000                 0.001000   \n",
      "25%        0.000000             0.000000                90.033000   \n",
      "50%        0.000000             0.286000               593.663000   \n",
      "75%        4.000000             4.000000              3487.050000   \n",
      "max    10600.000000          9027.714000             76541.772000   \n",
      "\n",
      "       new_cases_per_million  new_cases_smoothed_per_million  \\\n",
      "count           56401.000000                    55587.000000   \n",
      "mean               39.344804                       38.403211   \n",
      "std               133.985155                      101.649441   \n",
      "min             -2212.545000                     -269.978000   \n",
      "25%                 0.000000                        0.260000   \n",
      "50%                 2.194000                        3.863000   \n",
      "75%                25.941000                       29.678500   \n",
      "max              8652.658000                     2472.188000   \n",
      "\n",
      "       total_deaths_per_million  ...  gdp_per_capita  extreme_poverty  \\\n",
      "count              44096.000000  ...    50367.000000     33571.000000   \n",
      "mean                  95.335293  ...    20620.172071        12.435453   \n",
      "std                  180.721699  ...    20310.999832        19.427924   \n",
      "min                    0.000000  ...      661.240000         0.100000   \n",
      "25%                    3.977750  ...     5321.444000         0.500000   \n",
      "50%                   20.383000  ...    13913.839000         2.000000   \n",
      "75%                   90.571250  ...    31400.840000        18.100000   \n",
      "max                 1248.014000  ...   116935.600000        77.600000   \n",
      "\n",
      "       cardiovasc_death_rate  diabetes_prevalence  female_smokers  \\\n",
      "count           51013.000000         52881.000000    39669.000000   \n",
      "mean              252.646642             8.070269       10.741569   \n",
      "std               117.522344             4.189605       10.470743   \n",
      "min                79.370000             0.990000        0.100000   \n",
      "25%               156.139000             5.310000        1.900000   \n",
      "50%               238.339000             7.110000        6.400000   \n",
      "75%               318.991000            10.390000       19.600000   \n",
      "max               724.417000            30.530000       44.000000   \n",
      "\n",
      "       male_smokers  handwashing_facilities  hospital_beds_per_thousand  \\\n",
      "count  39156.000000            24176.000000                45936.000000   \n",
      "mean      32.642686               52.089636                    3.089724   \n",
      "std       13.453566               31.645306                    2.513193   \n",
      "min        7.700000                1.188000                    0.100000   \n",
      "25%       21.400000               21.222000                    1.300000   \n",
      "50%       31.400000               52.232000                    2.500000   \n",
      "75%       40.900000               83.741000                    4.200000   \n",
      "max       78.100000               98.999000                   13.800000   \n",
      "\n",
      "       life_expectancy  human_development_index  \n",
      "count     56336.000000             49247.000000  \n",
      "mean         73.937780                 0.722223  \n",
      "std           7.397016                 0.153261  \n",
      "min          53.280000                 0.354000  \n",
      "25%          69.870000                 0.601000  \n",
      "50%          75.345000                 0.752000  \n",
      "75%          79.380000                 0.847000  \n",
      "max          86.750000                 0.953000  \n",
      "\n",
      "[8 rows x 45 columns]\n"
     ]
    }
   ],
   "source": [
    "# c. Info & describe of data in dataframe''\n",
    "print(\"\\nInfo of the dataframe:\")\n",
    "print(covid_data.info())\n",
    "\n",
    "\n",
    "print(covid_data.describe())"
   ]
  },
  {
   "cell_type": "markdown",
   "metadata": {},
   "source": [
    "3. Low Level Data Understanding :\n",
    "    a. Find count of unique values in location column.\n",
    "    b. Find which continent has maximum frequency using values \n",
    "        counts.\n",
    "    c. Find maximum & mean value in 'total_cases'.\n",
    "    d. Find 25%,50% & 75% quartile value in 'total_deaths'.\n",
    "    e. Find which continent has maximum \n",
    "        'human_development_index'.\n",
    "    f. Find which continent has minimum 'gdp_per_capita'."
   ]
  },
  {
   "cell_type": "code",
   "execution_count": 4,
   "metadata": {},
   "outputs": [
    {
     "name": "stdout",
     "output_type": "stream",
     "text": [
      "\n",
      "location column: 216\n",
      "\n",
      "maximum frequency: Europe\n",
      "\n",
      "Maximum value : 55154651.0\n",
      "Mean value : 167797.3688753302\n",
      "\n",
      "Quartile values in total deaths:\n",
      "0.25     13.0\n",
      "0.50     84.0\n",
      "0.75    727.0\n",
      "Name: total_deaths, dtype: float64\n",
      "\n",
      "maximum total cases: Asia\n"
     ]
    }
   ],
   "source": [
    "\n",
    "\n",
    "# a. Find count of unique values in the 'location' column.\n",
    "unique_loc = covid_data['location'].nunique()\n",
    "print(f\"\\nlocation column: {unique_loc}\")\n",
    "\n",
    "# b. Find which continent has the maximum frequency using value counts.\n",
    "max_fre = covid_data['continent'].value_counts().idxmax()\n",
    "print(f\"\\nmaximum frequency: {max_fre}\")\n",
    "\n",
    "# c. Find the maximum and mean value in 'total_cases'.\n",
    "max_total = covid_data['total_cases'].max()\n",
    "mean_total = covid_data['total_cases'].mean()\n",
    "print(f\"\\nMaximum value : {max_total}\")\n",
    "print(f\"Mean value : {mean_total}\")\n",
    "\n",
    "# d. Find 25%, 50%, and 75% quartile values in 'total_deaths'.\n",
    "quartiles = covid_data['total_deaths'].quantile([0.25, 0.5, 0.75])\n",
    "print(\"\\nQuartile values in total deaths:\")\n",
    "print(quartiles)\n",
    "\n",
    "# e. Find which continent has the maximum total_cases.\n",
    "max_total = covid_data.groupby('continent')['total_cases'].sum().idxmax()\n",
    "print(f\"\\nmaximum total cases: {max_total}\")\n"
   ]
  },
  {
   "cell_type": "markdown",
   "metadata": {},
   "source": [
    "4. Filter the dataframe with only this columns\n",
    "['continent','location','date','total_cases','total_deaths','gdp_per_ca\n",
    "pita','\n",
    "human_development_index'] and update the data frame."
   ]
  },
  {
   "cell_type": "code",
   "execution_count": 5,
   "metadata": {},
   "outputs": [
    {
     "name": "stdout",
     "output_type": "stream",
     "text": [
      "\n",
      "Updated DataFrame with selected columns:\n",
      "  continent     location      date  total_cases  total_deaths  gdp_per_capita  \\\n",
      "0      Asia  Afghanistan  31/12/19          NaN           NaN        1803.987   \n",
      "1      Asia  Afghanistan  01/01/20          NaN           NaN        1803.987   \n",
      "2      Asia  Afghanistan  02/01/20          NaN           NaN        1803.987   \n",
      "3      Asia  Afghanistan  03/01/20          NaN           NaN        1803.987   \n",
      "4      Asia  Afghanistan  04/01/20          NaN           NaN        1803.987   \n",
      "\n",
      "   human_development_index  \n",
      "0                    0.498  \n",
      "1                    0.498  \n",
      "2                    0.498  \n",
      "3                    0.498  \n",
      "4                    0.498  \n"
     ]
    }
   ],
   "source": [
    "# 4. Filter the dataframe with only specified columns\n",
    "columns = ['continent', 'location', 'date', 'total_cases', 'total_deaths', 'gdp_per_capita', 'human_development_index']\n",
    "filter = covid_data[columns]\n",
    "\n",
    "print(\"\\nUpdated DataFrame with selected columns:\")\n",
    "print(filter.head())\n"
   ]
  },
  {
   "cell_type": "markdown",
   "metadata": {},
   "source": [
    "5. Data Cleaning\n",
    " a. Remove all duplicates observations\n",
    " b. Find missing values in all columns\n",
    " c. Remove all observations where continent column value is \n",
    "missing\n",
    " Tip : using subset parameter in dropna\n",
    " d. Fill all missing values with 0"
   ]
  },
  {
   "cell_type": "code",
   "execution_count": 6,
   "metadata": {},
   "outputs": [],
   "source": [
    "\n",
    "# a. Remove all duplicate observations\n",
    "data = covid_data.drop_duplicates()\n",
    "\n"
   ]
  },
  {
   "cell_type": "code",
   "execution_count": 7,
   "metadata": {},
   "outputs": [
    {
     "name": "stdout",
     "output_type": "stream",
     "text": [
      "\n",
      "Missing values in each column:\n",
      "iso_code                                323\n",
      "continent                               646\n",
      "location                                  0\n",
      "date                                      0\n",
      "total_cases                            3636\n",
      "new_cases                               929\n",
      "new_cases_smoothed                     1742\n",
      "total_deaths                          13026\n",
      "new_deaths                              929\n",
      "new_deaths_smoothed                    1742\n",
      "total_cases_per_million                3923\n",
      "new_cases_per_million                   993\n",
      "new_cases_smoothed_per_million         1807\n",
      "total_deaths_per_million              13298\n",
      "new_deaths_per_million                  993\n",
      "new_deaths_smoothed_per_million        1807\n",
      "reproduction_rate                     19698\n",
      "icu_patients                          52904\n",
      "icu_patients_per_million              52904\n",
      "hosp_patients                         52389\n",
      "hosp_patients_per_million             52389\n",
      "weekly_icu_admissions                 57037\n",
      "weekly_icu_admissions_per_million     57037\n",
      "weekly_hosp_admissions                56749\n",
      "weekly_hosp_admissions_per_million    56749\n",
      "total_tests                           35377\n",
      "new_tests                             35607\n",
      "total_tests_per_thousand              35377\n",
      "new_tests_per_thousand                35607\n",
      "new_tests_smoothed                    32782\n",
      "new_tests_smoothed_per_thousand       32782\n",
      "tests_per_case                        34592\n",
      "positive_rate                         34183\n",
      "stringency_index                       9547\n",
      "population                              323\n",
      "population_density                     3023\n",
      "median_age                             6360\n",
      "aged_65_older                          7129\n",
      "aged_70_older                          6626\n",
      "gdp_per_capita                         7027\n",
      "extreme_poverty                       23823\n",
      "cardiovasc_death_rate                  6381\n",
      "diabetes_prevalence                    4513\n",
      "female_smokers                        17725\n",
      "male_smokers                          18238\n",
      "handwashing_facilities                33218\n",
      "hospital_beds_per_thousand            11458\n",
      "life_expectancy                        1058\n",
      "human_development_index                8147\n",
      "dtype: int64\n"
     ]
    }
   ],
   "source": [
    "# b. Find missing values in all columns\n",
    "missing_values = data.isnull().sum()\n",
    "print(\"\\nMissing values in each column:\")\n",
    "print(missing_values)\n"
   ]
  },
  {
   "cell_type": "code",
   "execution_count": 8,
   "metadata": {},
   "outputs": [],
   "source": [
    "# c. Remove all observations where the 'continent' column value is missing\n",
    "data = data.dropna(subset=['continent'])\n"
   ]
  },
  {
   "cell_type": "code",
   "execution_count": 9,
   "metadata": {},
   "outputs": [
    {
     "name": "stdout",
     "output_type": "stream",
     "text": [
      "\n",
      "Cleaned DataFrame:\n",
      "  iso_code continent     location      date  total_cases  new_cases  \\\n",
      "0      AFG      Asia  Afghanistan  31/12/19          0.0        0.0   \n",
      "1      AFG      Asia  Afghanistan  01/01/20          0.0        0.0   \n",
      "2      AFG      Asia  Afghanistan  02/01/20          0.0        0.0   \n",
      "3      AFG      Asia  Afghanistan  03/01/20          0.0        0.0   \n",
      "4      AFG      Asia  Afghanistan  04/01/20          0.0        0.0   \n",
      "\n",
      "   new_cases_smoothed  total_deaths  new_deaths  new_deaths_smoothed  ...  \\\n",
      "0                 0.0           0.0         0.0                  0.0  ...   \n",
      "1                 0.0           0.0         0.0                  0.0  ...   \n",
      "2                 0.0           0.0         0.0                  0.0  ...   \n",
      "3                 0.0           0.0         0.0                  0.0  ...   \n",
      "4                 0.0           0.0         0.0                  0.0  ...   \n",
      "\n",
      "   gdp_per_capita  extreme_poverty  cardiovasc_death_rate  \\\n",
      "0        1803.987              0.0                597.029   \n",
      "1        1803.987              0.0                597.029   \n",
      "2        1803.987              0.0                597.029   \n",
      "3        1803.987              0.0                597.029   \n",
      "4        1803.987              0.0                597.029   \n",
      "\n",
      "   diabetes_prevalence  female_smokers  male_smokers  handwashing_facilities  \\\n",
      "0                 9.59             0.0           0.0                  37.746   \n",
      "1                 9.59             0.0           0.0                  37.746   \n",
      "2                 9.59             0.0           0.0                  37.746   \n",
      "3                 9.59             0.0           0.0                  37.746   \n",
      "4                 9.59             0.0           0.0                  37.746   \n",
      "\n",
      "   hospital_beds_per_thousand  life_expectancy  human_development_index  \n",
      "0                         0.5            64.83                    0.498  \n",
      "1                         0.5            64.83                    0.498  \n",
      "2                         0.5            64.83                    0.498  \n",
      "3                         0.5            64.83                    0.498  \n",
      "4                         0.5            64.83                    0.498  \n",
      "\n",
      "[5 rows x 49 columns]\n"
     ]
    }
   ],
   "source": [
    "# d. Fill all missing values with 0\n",
    "data = data.fillna(0)\n",
    "\n",
    "print(\"\\nCleaned DataFrame:\")\n",
    "print(data.head())"
   ]
  },
  {
   "cell_type": "markdown",
   "metadata": {},
   "source": [
    "6. Date time format :\n",
    " a. Convert date column in datetime format using \n",
    "pandas.to_datetime\n",
    " b. Create new column month after extracting month data from \n",
    "date column."
   ]
  },
  {
   "cell_type": "code",
   "execution_count": 10,
   "metadata": {},
   "outputs": [
    {
     "name": "stderr",
     "output_type": "stream",
     "text": [
      "C:\\Users\\deepu\\AppData\\Local\\Temp\\ipykernel_31320\\525564775.py:2: UserWarning: Could not infer format, so each element will be parsed individually, falling back to `dateutil`. To ensure parsing is consistent and as-expected, please specify a format.\n",
      "  data['date'] = pd.to_datetime(data['date'])\n"
     ]
    }
   ],
   "source": [
    "\n",
    "# a. Convert the 'date' column to datetime format using pandas.to_datetime\n",
    "data['date'] = pd.to_datetime(data['date'])\n",
    "\n"
   ]
  },
  {
   "cell_type": "code",
   "execution_count": 11,
   "metadata": {},
   "outputs": [
    {
     "name": "stdout",
     "output_type": "stream",
     "text": [
      "\n",
      "DataFrame with updated date column and new month column:\n",
      "  iso_code continent     location       date  total_cases  new_cases  \\\n",
      "0      AFG      Asia  Afghanistan 2019-12-31          0.0        0.0   \n",
      "1      AFG      Asia  Afghanistan 2020-01-01          0.0        0.0   \n",
      "2      AFG      Asia  Afghanistan 2020-02-01          0.0        0.0   \n",
      "3      AFG      Asia  Afghanistan 2020-03-01          0.0        0.0   \n",
      "4      AFG      Asia  Afghanistan 2020-04-01          0.0        0.0   \n",
      "\n",
      "   new_cases_smoothed  total_deaths  new_deaths  new_deaths_smoothed  ...  \\\n",
      "0                 0.0           0.0         0.0                  0.0  ...   \n",
      "1                 0.0           0.0         0.0                  0.0  ...   \n",
      "2                 0.0           0.0         0.0                  0.0  ...   \n",
      "3                 0.0           0.0         0.0                  0.0  ...   \n",
      "4                 0.0           0.0         0.0                  0.0  ...   \n",
      "\n",
      "   extreme_poverty  cardiovasc_death_rate  diabetes_prevalence  \\\n",
      "0              0.0                597.029                 9.59   \n",
      "1              0.0                597.029                 9.59   \n",
      "2              0.0                597.029                 9.59   \n",
      "3              0.0                597.029                 9.59   \n",
      "4              0.0                597.029                 9.59   \n",
      "\n",
      "   female_smokers  male_smokers  handwashing_facilities  \\\n",
      "0             0.0           0.0                  37.746   \n",
      "1             0.0           0.0                  37.746   \n",
      "2             0.0           0.0                  37.746   \n",
      "3             0.0           0.0                  37.746   \n",
      "4             0.0           0.0                  37.746   \n",
      "\n",
      "   hospital_beds_per_thousand  life_expectancy  human_development_index  month  \n",
      "0                         0.5            64.83                    0.498     12  \n",
      "1                         0.5            64.83                    0.498      1  \n",
      "2                         0.5            64.83                    0.498      2  \n",
      "3                         0.5            64.83                    0.498      3  \n",
      "4                         0.5            64.83                    0.498      4  \n",
      "\n",
      "[5 rows x 50 columns]\n"
     ]
    }
   ],
   "source": [
    "# b. Create a new column 'month' after extracting month data from the 'date' column\n",
    "data['month'] = data['date'].dt.month\n",
    "\n",
    "print(\"\\nDataFrame with updated date column and new month column:\")\n",
    "print(data.head())"
   ]
  },
  {
   "cell_type": "markdown",
   "metadata": {},
   "source": [
    "7. Data Aggregation:\n",
    " a. Find max value in all columns using groupby function on \n",
    "'continent'\n",
    " column\n",
    " Tip: use reset_index() after applying groupby\n",
    " b. Store the result in a new dataframe named 'df_groupby'.\n",
    " (Use df_groupby dataframe for all further analysis)"
   ]
  },
  {
   "cell_type": "code",
   "execution_count": 12,
   "metadata": {},
   "outputs": [
    {
     "name": "stdout",
     "output_type": "stream",
     "text": [
      "       continent iso_code                      location       date  \\\n",
      "0         Africa      ZWE                      Zimbabwe 2020-12-11   \n",
      "1           Asia      YEM                         Yemen 2020-12-11   \n",
      "2         Europe      VAT                       Vatican 2020-12-11   \n",
      "3  North America      VIR  United States Virgin Islands 2020-12-11   \n",
      "4        Oceania      WLF             Wallis and Futuna 2020-12-11   \n",
      "\n",
      "   total_cases  new_cases  new_cases_smoothed  total_deaths  new_deaths  \\\n",
      "0     752269.0    13944.0           12583.714       20314.0       572.0   \n",
      "1    8874290.0    97894.0           93198.571      130519.0      2003.0   \n",
      "2    1991233.0    86852.0           54868.571       52147.0      2004.0   \n",
      "3   11205486.0   184813.0          156419.143      247220.0      4928.0   \n",
      "4      27750.0     1384.0             551.714         907.0        59.0   \n",
      "\n",
      "   new_deaths_smoothed  ...  extreme_poverty  cardiovasc_death_rate  \\\n",
      "0              297.429  ...             77.6                525.432   \n",
      "1             1168.000  ...             30.3                724.417   \n",
      "2             1101.000  ...              5.7                539.849   \n",
      "3             2715.143  ...             23.5                430.548   \n",
      "4               22.000  ...             25.1                561.494   \n",
      "\n",
      "   diabetes_prevalence  female_smokers  male_smokers  handwashing_facilities  \\\n",
      "0                22.02             9.7          65.8                  89.827   \n",
      "1                17.72            26.9          78.1                  98.999   \n",
      "2                10.08            44.0          58.3                  97.719   \n",
      "3                17.11            19.1          53.3                  90.650   \n",
      "4                30.53            23.5          48.8                  82.502   \n",
      "\n",
      "   hospital_beds_per_thousand  life_expectancy  human_development_index  month  \n",
      "0                        6.30            76.88                    0.797     12  \n",
      "1                       13.05            84.86                    0.933     12  \n",
      "2                       13.80            86.75                    0.953     12  \n",
      "3                        5.80            83.92                    0.926     12  \n",
      "4                        3.84            83.44                    0.939     12  \n",
      "\n",
      "[5 rows x 50 columns]\n"
     ]
    }
   ],
   "source": [
    "# a. Find max value in all columns using groupby function on 'continent' column\n",
    "df_groupby = data.groupby('continent').max().reset_index()\n",
    "\n",
    "print(df_groupby.head())\n"
   ]
  },
  {
   "cell_type": "code",
   "execution_count": 13,
   "metadata": {},
   "outputs": [
    {
     "name": "stdout",
     "output_type": "stream",
     "text": [
      "       continent iso_code                      location       date  \\\n",
      "0         Africa      ZWE                      Zimbabwe 2020-12-11   \n",
      "1           Asia      YEM                         Yemen 2020-12-11   \n",
      "2         Europe      VAT                       Vatican 2020-12-11   \n",
      "3  North America      VIR  United States Virgin Islands 2020-12-11   \n",
      "4        Oceania      WLF             Wallis and Futuna 2020-12-11   \n",
      "5  South America      VEN                     Venezuela 2020-12-11   \n",
      "\n",
      "   total_cases  new_cases  new_cases_smoothed  total_deaths  new_deaths  \\\n",
      "0     752269.0    13944.0           12583.714       20314.0       572.0   \n",
      "1    8874290.0    97894.0           93198.571      130519.0      2003.0   \n",
      "2    1991233.0    86852.0           54868.571       52147.0      2004.0   \n",
      "3   11205486.0   184813.0          156419.143      247220.0      4928.0   \n",
      "4      27750.0     1384.0             551.714         907.0        59.0   \n",
      "5    5876464.0    69074.0           46393.000      166014.0      3935.0   \n",
      "\n",
      "   new_deaths_smoothed  ...  extreme_poverty  cardiovasc_death_rate  \\\n",
      "0              297.429  ...             77.6                525.432   \n",
      "1             1168.000  ...             30.3                724.417   \n",
      "2             1101.000  ...              5.7                539.849   \n",
      "3             2715.143  ...             23.5                430.548   \n",
      "4               22.000  ...             25.1                561.494   \n",
      "5             1096.714  ...              7.1                373.159   \n",
      "\n",
      "   diabetes_prevalence  female_smokers  male_smokers  handwashing_facilities  \\\n",
      "0                22.02             9.7          65.8                  89.827   \n",
      "1                17.72            26.9          78.1                  98.999   \n",
      "2                10.08            44.0          58.3                  97.719   \n",
      "3                17.11            19.1          53.3                  90.650   \n",
      "4                30.53            23.5          48.8                  82.502   \n",
      "5                12.54            34.2          42.9                  80.635   \n",
      "\n",
      "   hospital_beds_per_thousand  life_expectancy  human_development_index  month  \n",
      "0                        6.30            76.88                    0.797     12  \n",
      "1                       13.05            84.86                    0.933     12  \n",
      "2                       13.80            86.75                    0.953     12  \n",
      "3                        5.80            83.92                    0.926     12  \n",
      "4                        3.84            83.44                    0.939     12  \n",
      "5                        5.00            81.44                    0.843     12  \n",
      "\n",
      "[6 rows x 50 columns]\n"
     ]
    }
   ],
   "source": [
    "# b. Store the result in a new dataframe named 'df_groupby'\n",
    "df_groupby.to_csv(\"df_groupby.csv\", index=False)\n",
    "\n",
    "print(df_groupby)"
   ]
  },
  {
   "cell_type": "markdown",
   "metadata": {},
   "source": [
    "8. Feature Engineering :\n",
    " a. Create a new feature 'total_deaths_to_total_cases' by ratio of\n",
    " 'total_deaths' column to 'total_cases'"
   ]
  },
  {
   "cell_type": "code",
   "execution_count": 14,
   "metadata": {},
   "outputs": [
    {
     "name": "stdout",
     "output_type": "stream",
     "text": [
      "       continent iso_code                      location       date  \\\n",
      "0         Africa      ZWE                      Zimbabwe 2020-12-11   \n",
      "1           Asia      YEM                         Yemen 2020-12-11   \n",
      "2         Europe      VAT                       Vatican 2020-12-11   \n",
      "3  North America      VIR  United States Virgin Islands 2020-12-11   \n",
      "4        Oceania      WLF             Wallis and Futuna 2020-12-11   \n",
      "\n",
      "   total_cases  new_cases  new_cases_smoothed  total_deaths  new_deaths  \\\n",
      "0     752269.0    13944.0           12583.714       20314.0       572.0   \n",
      "1    8874290.0    97894.0           93198.571      130519.0      2003.0   \n",
      "2    1991233.0    86852.0           54868.571       52147.0      2004.0   \n",
      "3   11205486.0   184813.0          156419.143      247220.0      4928.0   \n",
      "4      27750.0     1384.0             551.714         907.0        59.0   \n",
      "\n",
      "   new_deaths_smoothed  ...  cardiovasc_death_rate  diabetes_prevalence  \\\n",
      "0              297.429  ...                525.432                22.02   \n",
      "1             1168.000  ...                724.417                17.72   \n",
      "2             1101.000  ...                539.849                10.08   \n",
      "3             2715.143  ...                430.548                17.11   \n",
      "4               22.000  ...                561.494                30.53   \n",
      "\n",
      "   female_smokers  male_smokers  handwashing_facilities  \\\n",
      "0             9.7          65.8                  89.827   \n",
      "1            26.9          78.1                  98.999   \n",
      "2            44.0          58.3                  97.719   \n",
      "3            19.1          53.3                  90.650   \n",
      "4            23.5          48.8                  82.502   \n",
      "\n",
      "   hospital_beds_per_thousand  life_expectancy  human_development_index  \\\n",
      "0                        6.30            76.88                    0.797   \n",
      "1                       13.05            84.86                    0.933   \n",
      "2                       13.80            86.75                    0.953   \n",
      "3                        5.80            83.92                    0.926   \n",
      "4                        3.84            83.44                    0.939   \n",
      "\n",
      "   month  total_deaths_to_total_cases  \n",
      "0     12                     0.027004  \n",
      "1     12                     0.014708  \n",
      "2     12                     0.026188  \n",
      "3     12                     0.022062  \n",
      "4     12                     0.032685  \n",
      "\n",
      "[5 rows x 51 columns]\n"
     ]
    }
   ],
   "source": [
    "\n",
    "# a. Create a new feature 'total_deaths_to_total_cases' by the ratio of 'total_deaths' to 'total_cases'\n",
    "df_groupby['total_deaths_to_total_cases'] = df_groupby['total_deaths'] / df_groupby['total_cases']\n",
    "\n",
    "print(df_groupby.head())\n"
   ]
  },
  {
   "cell_type": "markdown",
   "metadata": {},
   "source": [
    "9. Data Visualization :\n",
    " a. Perform Univariate analysis on 'gdp_per_capita' column by \n",
    "plotting\n",
    " histogram using seaborn dist plot.\n",
    " b. Plot a scatter plot of 'total_cases' & 'gdp_per_capita'\n",
    " c. Plot Pairplot on df_groupby dataset.\n",
    " d. Plot a bar plot of 'continent' column with 'total_cases' .\n",
    " Tip : using kind='bar' in seaborn catplot"
   ]
  },
  {
   "cell_type": "code",
   "execution_count": 15,
   "metadata": {},
   "outputs": [
    {
     "data": {
      "image/png": "[encoded data removed]",
      "text/plain": [
       "<Figure size 1000x600 with 1 Axes>"
      ]
     },
     "metadata": {},
     "output_type": "display_data"
    }
   ],
   "source": [
    "\n",
    "# a. Perform Univariate analysis on 'gdp_per_capita' column by plotting histogram\n",
    "\n",
    "sns.set(style=\"whitegrid\")\n",
    "\n",
    "plt.figure(figsize=(10, 6))\n",
    "sns.histplot(data['gdp_per_capita'], kde=True, color='skyblue')\n",
    "plt.title('Univariate Analysis: Distribution of GDP per Capita')\n",
    "plt.xlabel('GDP per Capita')\n",
    "plt.ylabel('Frequency')\n",
    "plt.show()\n",
    "\n",
    "\n"
   ]
  },
  {
   "cell_type": "code",
   "execution_count": 16,
   "metadata": {},
   "outputs": [
    {
     "data": {
      "image/png": "[encoded data removed]",
      "text/plain": [
       "<Figure size 1000x600 with 1 Axes>"
      ]
     },
     "metadata": {},
     "output_type": "display_data"
    }
   ],
   "source": [
    "# b. Plot a scatter plot of 'total_cases' & 'gdp_per_capita'\n",
    "\n",
    "plt.figure(figsize=(10, 6))\n",
    "sns.scatterplot(x='gdp_per_capita', y='total_cases', data=df_groupby, color='coral')\n",
    "plt.title('Scatter Plot: Total Cases vs GDP per Capita')\n",
    "plt.xlabel('GDP per Capita')\n",
    "plt.ylabel('Total Cases')\n",
    "plt.show()"
   ]
  },
  {
   "cell_type": "code",
   "execution_count": 17,
   "metadata": {},
   "outputs": [
    {
     "name": "stderr",
     "output_type": "stream",
     "text": [
      "c:\\Users\\deepu\\anaconda3\\Lib\\site-packages\\seaborn\\axisgrid.py:118: UserWarning: The figure layout has changed to tight\n",
      "  self._figure.tight_layout(*args, **kwargs)\n"
     ]
    },
    {
     "data": {
      "text/plain": [
       "<Figure size 1200x600 with 0 Axes>"
      ]
     },
     "metadata": {},
     "output_type": "display_data"
    },
    {
     "data": {
      "image/png": "[encoded data removed]",
      "text/plain": [
       "<Figure size 500x500 with 1 Axes>"
      ]
     },
     "metadata": {},
     "output_type": "display_data"
    }
   ],
   "source": [
    "# c. Plot a bar plot of 'continent' column with 'total_cases'\n",
    "plt.figure(figsize=(12, 6))\n",
    "sns.catplot(x='continent', y='total_cases', data=df_groupby, kind='bar', palette='pastel')\n",
    "plt.title('Bar Plot: Total Cases by Continent')\n",
    "plt.xlabel('Continent')\n",
    "plt.ylabel('Total Cases')\n",
    "plt.show()"
   ]
  },
  {
   "cell_type": "markdown",
   "metadata": {},
   "source": [
    "10. Save the df_groupby dataframe in your local drive using \n",
    "pandas.to_csv\n",
    " function ."
   ]
  },
  {
   "cell_type": "code",
   "execution_count": 19,
   "metadata": {},
   "outputs": [
    {
     "name": "stdout",
     "output_type": "stream",
     "text": [
      "DataFrame df groupby has been saved to df groupby.csv\n"
     ]
    }
   ],
   "source": [
    "\n",
    "df_groupby.to_csv('df_groupby.csv', index=False)\n",
    "print(\"DataFrame df groupby has been saved to df_groupby.csv\")\n"
   ]
  }
 ],
 "metadata": {
  "kernelspec": {
   "display_name": "base",
   "language": "python",
   "name": "python3"
  },
  "language_info": {
   "codemirror_mode": {
    "name": "ipython",
    "version": 3
   },
   "file_extension": ".py",
   "mimetype": "text/x-python",
   "name": "python",
   "nbconvert_exporter": "python",
   "pygments_lexer": "ipython3",
   "version": "3.11.5"
  }
 },
 "nbformat": 4,
 "nbformat_minor": 2
}
